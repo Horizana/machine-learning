{
 "cells": [
  {
   "cell_type": "markdown",
   "id": "6b24c7c2-86fd-4e76-9f53-566ad061182b",
   "metadata": {},
   "source": [
    "### Import libraries "
   ]
  },
  {
   "cell_type": "code",
   "execution_count": 1,
   "id": "a87a824c-6c09-42a0-8922-4efb94023984",
   "metadata": {},
   "outputs": [],
   "source": [
    "\n",
    "import numpy as np # linear algebra \n",
    "import pandas as pd # data processing, CSV file I/O (e.g. pd.read_csv) \n",
    "import matplotlib.pyplot as plt # for data visualization purposes \n",
    "import seaborn as sns # for statistical data visualization "
   ]
  },
  {
   "cell_type": "markdown",
   "id": "2afddd5b-c90d-46c5-bb75-75a391230b5b",
   "metadata": {},
   "source": [
    "### Import dataset"
   ]
  },
  {
   "cell_type": "code",
   "execution_count": 55,
   "id": "f8442ac5-58ed-4e7c-ad87-ba15a669643a",
   "metadata": {},
   "outputs": [
    {
     "name": "stdout",
     "output_type": "stream",
     "text": [
      "(32560, 15)\n",
      "   39          State-gov   77516   Bachelors  13        Never-married  \\\n",
      "0  50   Self-emp-not-inc   83311   Bachelors  13   Married-civ-spouse   \n",
      "1  38            Private  215646     HS-grad   9             Divorced   \n",
      "2  53            Private  234721        11th   7   Married-civ-spouse   \n",
      "3  28            Private  338409   Bachelors  13   Married-civ-spouse   \n",
      "4  37            Private  284582     Masters  14   Married-civ-spouse   \n",
      "\n",
      "         Adm-clerical   Not-in-family   White     Male  2174  0  40  \\\n",
      "0     Exec-managerial         Husband   White     Male     0  0  13   \n",
      "1   Handlers-cleaners   Not-in-family   White     Male     0  0  40   \n",
      "2   Handlers-cleaners         Husband   Black     Male     0  0  40   \n",
      "3      Prof-specialty            Wife   Black   Female     0  0  40   \n",
      "4     Exec-managerial            Wife   White   Female     0  0  40   \n",
      "\n",
      "    United-States   <=50K  \n",
      "0   United-States   <=50K  \n",
      "1   United-States   <=50K  \n",
      "2   United-States   <=50K  \n",
      "3            Cuba   <=50K  \n",
      "4   United-States   <=50K  \n"
     ]
    }
   ],
   "source": [
    "df=pd.read_csv('adult.csv') \n",
    "print(df.shape) \n",
    "print(df.head()) "
   ]
  },
  {
   "cell_type": "markdown",
   "id": "94466d27-14b1-4b36-9aac-ed1a39068d85",
   "metadata": {},
   "source": [
    "### Exploratory data analysis \n",
    "#### View top 5 rows of dataset "
   ]
  },
  {
   "cell_type": "code",
   "execution_count": 85,
   "id": "1b32b8ed-bb04-4019-92fe-a059b10a53c0",
   "metadata": {},
   "outputs": [
    {
     "name": "stdout",
     "output_type": "stream",
     "text": [
      "   age          workclass  fnlwgt   education  education_num  \\\n",
      "0   50   Self-emp-not-inc   83311   Bachelors             13   \n",
      "1   38            Private  215646     HS-grad              9   \n",
      "2   53            Private  234721        11th              7   \n",
      "3   28            Private  338409   Bachelors             13   \n",
      "4   37            Private  284582     Masters             14   \n",
      "\n",
      "        marital_status          occupation    relationship    race      sex  \\\n",
      "0   Married-civ-spouse     Exec-managerial         Husband   White     Male   \n",
      "1             Divorced   Handlers-cleaners   Not-in-family   White     Male   \n",
      "2   Married-civ-spouse   Handlers-cleaners         Husband   Black     Male   \n",
      "3   Married-civ-spouse      Prof-specialty            Wife   Black   Female   \n",
      "4   Married-civ-spouse     Exec-managerial            Wife   White   Female   \n",
      "\n",
      "   capital_gain  capital_loss  hours_per_week  native_country  income  \n",
      "0             0             0              13   United-States   <=50K  \n",
      "1             0             0              40   United-States   <=50K  \n",
      "2             0             0              40   United-States   <=50K  \n",
      "3             0             0              40            Cuba   <=50K  \n",
      "4             0             0              40   United-States   <=50K  \n",
      "   age          workclass  fnlwgt   education  education_num  \\\n",
      "0   50   Self-emp-not-inc   83311   Bachelors             13   \n",
      "1   38            Private  215646     HS-grad              9   \n",
      "2   53            Private  234721        11th              7   \n",
      "3   28            Private  338409   Bachelors             13   \n",
      "4   37            Private  284582     Masters             14   \n",
      "\n",
      "        marital_status          occupation    relationship    race      sex  \\\n",
      "0   Married-civ-spouse     Exec-managerial         Husband   White     Male   \n",
      "1             Divorced   Handlers-cleaners   Not-in-family   White     Male   \n",
      "2   Married-civ-spouse   Handlers-cleaners         Husband   Black     Male   \n",
      "3   Married-civ-spouse      Prof-specialty            Wife   Black   Female   \n",
      "4   Married-civ-spouse     Exec-managerial            Wife   White   Female   \n",
      "\n",
      "   capital_gain  capital_loss  hours_per_week  native_country  income  \n",
      "0             0             0              13   United-States   <=50K  \n",
      "1             0             0              40   United-States   <=50K  \n",
      "2             0             0              40   United-States   <=50K  \n",
      "3             0             0              40            Cuba   <=50K  \n",
      "4             0             0              40   United-States   <=50K  \n"
     ]
    }
   ],
   "source": [
    "df.shape \n",
    "print(df.head()) \n",
    "print(df.head()) "
   ]
  },
  {
   "cell_type": "markdown",
   "id": "3725d3c2-18dc-4515-bfeb-1d7e9c828caa",
   "metadata": {},
   "source": [
    "### Rename column names "
   ]
  },
  {
   "cell_type": "code",
   "execution_count": 295,
   "id": "f418f41b-9b6d-44ca-a182-ac540ca2d7af",
   "metadata": {},
   "outputs": [
    {
     "name": "stdout",
     "output_type": "stream",
     "text": [
      "   age          workclass  fnlwgt   education  education_num  \\\n",
      "0   50   Self-emp-not-inc   83311   Bachelors             13   \n",
      "1   38            Private  215646     HS-grad              9   \n",
      "2   53            Private  234721        11th              7   \n",
      "3   28            Private  338409   Bachelors             13   \n",
      "4   37            Private  284582     Masters             14   \n",
      "\n",
      "        marital_status          occupation    relationship    race      sex  \\\n",
      "0   Married-civ-spouse     Exec-managerial         Husband   White     Male   \n",
      "1             Divorced   Handlers-cleaners   Not-in-family   White     Male   \n",
      "2   Married-civ-spouse   Handlers-cleaners         Husband   Black     Male   \n",
      "3   Married-civ-spouse      Prof-specialty            Wife   Black   Female   \n",
      "4   Married-civ-spouse     Exec-managerial            Wife   White   Female   \n",
      "\n",
      "   capital_gain  capital_loss  hours_per_week  native_country  income  \n",
      "0             0             0              13   United-States   <=50K  \n",
      "1             0             0              40   United-States   <=50K  \n",
      "2             0             0              40   United-States   <=50K  \n",
      "3             0             0              40            Cuba   <=50K  \n",
      "4             0             0              40   United-States   <=50K  \n"
     ]
    }
   ],
   "source": [
    "col_names = ['age', 'workclass', 'fnlwgt', 'education', 'education_num', 'marital_status', \n",
    "'occupation', 'relationship', \n",
    "'race', 'sex', 'capital_gain', 'capital_loss', 'hours_per_week', 'native_country', 'income'] \n",
    "df.columns=col_names \n",
    "print(df.head()) "
   ]
  },
  {
   "cell_type": "markdown",
   "id": "9b259763-8b4b-4e96-b2c1-d1e8e3faa9f6",
   "metadata": {},
   "source": [
    "### View summary of datase \n",
    "#### view summary of dataset "
   ]
  },
  {
   "cell_type": "code",
   "execution_count": 87,
   "id": "20611dd7-c51c-4a27-a79a-12aa733581c4",
   "metadata": {},
   "outputs": [
    {
     "name": "stdout",
     "output_type": "stream",
     "text": [
      "<class 'pandas.core.frame.DataFrame'>\n",
      "RangeIndex: 32560 entries, 0 to 32559\n",
      "Data columns (total 15 columns):\n",
      " #   Column          Non-Null Count  Dtype \n",
      "---  ------          --------------  ----- \n",
      " 0   age             32560 non-null  int64 \n",
      " 1   workclass       32560 non-null  object\n",
      " 2   fnlwgt          32560 non-null  int64 \n",
      " 3   education       32560 non-null  object\n",
      " 4   education_num   32560 non-null  int64 \n",
      " 5   marital_status  32560 non-null  object\n",
      " 6   occupation      32560 non-null  object\n",
      " 7   relationship    32560 non-null  object\n",
      " 8   race            32560 non-null  object\n",
      " 9   sex             32560 non-null  object\n",
      " 10  capital_gain    32560 non-null  int64 \n",
      " 11  capital_loss    32560 non-null  int64 \n",
      " 12  hours_per_week  32560 non-null  int64 \n",
      " 13  native_country  32560 non-null  object\n",
      " 14  income          32560 non-null  object\n",
      "dtypes: int64(6), object(9)\n",
      "memory usage: 3.7+ MB\n"
     ]
    }
   ],
   "source": [
    "df.info()"
   ]
  },
  {
   "cell_type": "markdown",
   "id": "673eff1c-9dd1-4167-b04e-9175ad595342",
   "metadata": {},
   "source": [
    "### Explore categorical variables "
   ]
  },
  {
   "cell_type": "code",
   "execution_count": 95,
   "id": "af593d0f-fdf0-4a9d-9e6e-4256b42c0ac2",
   "metadata": {},
   "outputs": [
    {
     "name": "stdout",
     "output_type": "stream",
     "text": [
      "Ther are 9 categorical values\n",
      "The categorica are :\n",
      "\n",
      " ['workclass', 'education', 'marital_status', 'occupation', 'relationship', 'race', 'sex', 'native_country', 'income']\n",
      "           workclass   education       marital_status          occupation  \\\n",
      "0   Self-emp-not-inc   Bachelors   Married-civ-spouse     Exec-managerial   \n",
      "1            Private     HS-grad             Divorced   Handlers-cleaners   \n",
      "2            Private        11th   Married-civ-spouse   Handlers-cleaners   \n",
      "3            Private   Bachelors   Married-civ-spouse      Prof-specialty   \n",
      "4            Private     Masters   Married-civ-spouse     Exec-managerial   \n",
      "\n",
      "     relationship    race      sex  native_country  income  \n",
      "0         Husband   White     Male   United-States   <=50K  \n",
      "1   Not-in-family   White     Male   United-States   <=50K  \n",
      "2         Husband   Black     Male   United-States   <=50K  \n",
      "3            Wife   Black   Female            Cuba   <=50K  \n",
      "4            Wife   White   Female   United-States   <=50K  \n"
     ]
    }
   ],
   "source": [
    "categorical=[var for var in df.columns if df[var].dtype=='O'] \n",
    "print('Ther are {} categorical values'.format(len(categorical))) \n",
    "print('The categorica are :\\n\\n',categorical) \n",
    "print(df[categorical].head()) "
   ]
  },
  {
   "cell_type": "markdown",
   "id": "2f051f0e-6a1f-44a3-8e6e-7a5ff2f2ab22",
   "metadata": {},
   "source": [
    "### Explore problems within categorical variables¶ \n",
    "\n",
    "#### Missing values in categorical variables "
   ]
  },
  {
   "cell_type": "code",
   "execution_count": 93,
   "id": "88bf138b-cc24-4f02-8540-9e270b9a521d",
   "metadata": {},
   "outputs": [
    {
     "data": {
      "text/plain": [
       "workclass         0\n",
       "education         0\n",
       "marital_status    0\n",
       "occupation        0\n",
       "relationship      0\n",
       "race              0\n",
       "sex               0\n",
       "native_country    0\n",
       "income            0\n",
       "dtype: int64"
      ]
     },
     "execution_count": 93,
     "metadata": {},
     "output_type": "execute_result"
    }
   ],
   "source": [
    " # check missing values in categorical variables \n",
    "df[categorical].isnull().sum() "
   ]
  },
  {
   "cell_type": "markdown",
   "id": "356fb8bf-5975-4888-b3b5-f55eb2344569",
   "metadata": {},
   "source": [
    "### Frequency counts of categorical variables "
   ]
  },
  {
   "cell_type": "code",
   "execution_count": 103,
   "id": "2d555fa5-0773-4d35-8fd9-2b96dd8a4fab",
   "metadata": {},
   "outputs": [
    {
     "name": "stdout",
     "output_type": "stream",
     "text": [
      "workclass\n",
      "Private             22696\n",
      "Self-emp-not-inc     2541\n",
      "Local-gov            2093\n",
      "?                    1836\n",
      "State-gov            1297\n",
      "Self-emp-inc         1116\n",
      "Federal-gov           960\n",
      "Without-pay            14\n",
      "Never-worked            7\n",
      "Name: count, dtype: int64\n",
      "education\n",
      "HS-grad         10501\n",
      "Some-college     7291\n",
      "Bachelors        5354\n",
      "Masters          1723\n",
      "Assoc-voc        1382\n",
      "11th             1175\n",
      "Assoc-acdm       1067\n",
      "10th              933\n",
      "7th-8th           646\n",
      "Prof-school       576\n",
      "9th               514\n",
      "12th              433\n",
      "Doctorate         413\n",
      "5th-6th           333\n",
      "1st-4th           168\n",
      "Preschool          51\n",
      "Name: count, dtype: int64\n",
      "marital_status\n",
      "Married-civ-spouse       14976\n",
      "Never-married            10682\n",
      "Divorced                  4443\n",
      "Separated                 1025\n",
      "Widowed                    993\n",
      "Married-spouse-absent      418\n",
      "Married-AF-spouse           23\n",
      "Name: count, dtype: int64\n",
      "occupation\n",
      "Prof-specialty       4140\n",
      "Craft-repair         4099\n",
      "Exec-managerial      4066\n",
      "Adm-clerical         3769\n",
      "Sales                3650\n",
      "Other-service        3295\n",
      "Machine-op-inspct    2002\n",
      "?                    1843\n",
      "Transport-moving     1597\n",
      "Handlers-cleaners    1370\n",
      "Farming-fishing       994\n",
      "Tech-support          928\n",
      "Protective-serv       649\n",
      "Priv-house-serv       149\n",
      "Armed-Forces            9\n",
      "Name: count, dtype: int64\n",
      "relationship\n",
      "Husband           13193\n",
      "Not-in-family      8304\n",
      "Own-child          5068\n",
      "Unmarried          3446\n",
      "Wife               1568\n",
      "Other-relative      981\n",
      "Name: count, dtype: int64\n",
      "race\n",
      "White                 27815\n",
      "Black                  3124\n",
      "Asian-Pac-Islander     1039\n",
      "Amer-Indian-Eskimo      311\n",
      "Other                   271\n",
      "Name: count, dtype: int64\n",
      "sex\n",
      "Male      21789\n",
      "Female    10771\n",
      "Name: count, dtype: int64\n",
      "native_country\n",
      "United-States                 29169\n",
      "Mexico                          643\n",
      "?                               583\n",
      "Philippines                     198\n",
      "Germany                         137\n",
      "Canada                          121\n",
      "Puerto-Rico                     114\n",
      "El-Salvador                     106\n",
      "India                           100\n",
      "Cuba                             95\n",
      "England                          90\n",
      "Jamaica                          81\n",
      "South                            80\n",
      "China                            75\n",
      "Italy                            73\n",
      "Dominican-Republic               70\n",
      "Vietnam                          67\n",
      "Guatemala                        64\n",
      "Japan                            62\n",
      "Poland                           60\n",
      "Columbia                         59\n",
      "Taiwan                           51\n",
      "Haiti                            44\n",
      "Iran                             43\n",
      "Portugal                         37\n",
      "Nicaragua                        34\n",
      "Peru                             31\n",
      "France                           29\n",
      "Greece                           29\n",
      "Ecuador                          28\n",
      "Ireland                          24\n",
      "Hong                             20\n",
      "Cambodia                         19\n",
      "Trinadad&Tobago                  19\n",
      "Laos                             18\n",
      "Thailand                         18\n",
      "Yugoslavia                       16\n",
      "Outlying-US(Guam-USVI-etc)       14\n",
      "Honduras                         13\n",
      "Hungary                          13\n",
      "Scotland                         12\n",
      "Holand-Netherlands                1\n",
      "Name: count, dtype: int64\n",
      "income\n",
      "<=50K    24719\n",
      ">50K      7841\n",
      "Name: count, dtype: int64\n",
      "workclass\n",
      "Private             0.697052\n",
      "Self-emp-not-inc    0.078041\n",
      "Local-gov           0.064281\n",
      "?                   0.056388\n",
      "State-gov           0.039834\n",
      "Self-emp-inc        0.034275\n",
      "Federal-gov         0.029484\n",
      "Without-pay         0.000430\n",
      "Never-worked        0.000215\n",
      "Name: count, dtype: float64\n",
      "education\n",
      "HS-grad         0.322512\n",
      "Some-college    0.223925\n",
      "Bachelors       0.164435\n",
      "Masters         0.052918\n",
      "Assoc-voc       0.042445\n",
      "11th            0.036087\n",
      "Assoc-acdm      0.032770\n",
      "10th            0.028655\n",
      "7th-8th         0.019840\n",
      "Prof-school     0.017690\n",
      "9th             0.015786\n",
      "12th            0.013299\n",
      "Doctorate       0.012684\n",
      "5th-6th         0.010227\n",
      "1st-4th         0.005160\n",
      "Preschool       0.001566\n",
      "Name: count, dtype: float64\n",
      "marital_status\n",
      "Married-civ-spouse       0.459951\n",
      "Never-married            0.328071\n",
      "Divorced                 0.136456\n",
      "Separated                0.031480\n",
      "Widowed                  0.030498\n",
      "Married-spouse-absent    0.012838\n",
      "Married-AF-spouse        0.000706\n",
      "Name: count, dtype: float64\n",
      "occupation\n",
      "Prof-specialty       0.127150\n",
      "Craft-repair         0.125891\n",
      "Exec-managerial      0.124877\n",
      "Adm-clerical         0.115756\n",
      "Sales                0.112101\n",
      "Other-service        0.101198\n",
      "Machine-op-inspct    0.061486\n",
      "?                    0.056603\n",
      "Transport-moving     0.049048\n",
      "Handlers-cleaners    0.042076\n",
      "Farming-fishing      0.030528\n",
      "Tech-support         0.028501\n",
      "Protective-serv      0.019932\n",
      "Priv-house-serv      0.004576\n",
      "Armed-Forces         0.000276\n",
      "Name: count, dtype: float64\n",
      "relationship\n",
      "Husband           0.405190\n",
      "Not-in-family     0.255037\n",
      "Own-child         0.155651\n",
      "Unmarried         0.105835\n",
      "Wife              0.048157\n",
      "Other-relative    0.030129\n",
      "Name: count, dtype: float64\n",
      "race\n",
      "White                 0.854269\n",
      "Black                 0.095946\n",
      "Asian-Pac-Islander    0.031910\n",
      "Amer-Indian-Eskimo    0.009552\n",
      "Other                 0.008323\n",
      "Name: count, dtype: float64\n",
      "sex\n",
      "Male      0.669195\n",
      "Female    0.330805\n",
      "Name: count, dtype: float64\n",
      "native_country\n",
      "United-States                 0.895854\n",
      "Mexico                        0.019748\n",
      "?                             0.017905\n",
      "Philippines                   0.006081\n",
      "Germany                       0.004208\n",
      "Canada                        0.003716\n",
      "Puerto-Rico                   0.003501\n",
      "El-Salvador                   0.003256\n",
      "India                         0.003071\n",
      "Cuba                          0.002918\n",
      "England                       0.002764\n",
      "Jamaica                       0.002488\n",
      "South                         0.002457\n",
      "China                         0.002303\n",
      "Italy                         0.002242\n",
      "Dominican-Republic            0.002150\n",
      "Vietnam                       0.002058\n",
      "Guatemala                     0.001966\n",
      "Japan                         0.001904\n",
      "Poland                        0.001843\n",
      "Columbia                      0.001812\n",
      "Taiwan                        0.001566\n",
      "Haiti                         0.001351\n",
      "Iran                          0.001321\n",
      "Portugal                      0.001136\n",
      "Nicaragua                     0.001044\n",
      "Peru                          0.000952\n",
      "France                        0.000891\n",
      "Greece                        0.000891\n",
      "Ecuador                       0.000860\n",
      "Ireland                       0.000737\n",
      "Hong                          0.000614\n",
      "Cambodia                      0.000584\n",
      "Trinadad&Tobago               0.000584\n",
      "Laos                          0.000553\n",
      "Thailand                      0.000553\n",
      "Yugoslavia                    0.000491\n",
      "Outlying-US(Guam-USVI-etc)    0.000430\n",
      "Honduras                      0.000399\n",
      "Hungary                       0.000399\n",
      "Scotland                      0.000369\n",
      "Holand-Netherlands            0.000031\n",
      "Name: count, dtype: float64\n",
      "income\n",
      "<=50K    0.759183\n",
      ">50K     0.240817\n",
      "Name: count, dtype: float64\n"
     ]
    }
   ],
   "source": [
    "# View frequency counts of values in categorical variables\n",
    "for var in categorical:\n",
    "    print(df[var].value_counts())\n"
   ]
  },
  {
   "cell_type": "code",
   "execution_count": 105,
   "id": "f6056f6a-baeb-48e0-9d49-e7f538d0ed5f",
   "metadata": {},
   "outputs": [
    {
     "name": "stdout",
     "output_type": "stream",
     "text": [
      "workclass\n",
      "Private             0.697052\n",
      "Self-emp-not-inc    0.078041\n",
      "Local-gov           0.064281\n",
      "?                   0.056388\n",
      "State-gov           0.039834\n",
      "Self-emp-inc        0.034275\n",
      "Federal-gov         0.029484\n",
      "Without-pay         0.000430\n",
      "Never-worked        0.000215\n",
      "Name: count, dtype: float64\n",
      "education\n",
      "HS-grad         0.322512\n",
      "Some-college    0.223925\n",
      "Bachelors       0.164435\n",
      "Masters         0.052918\n",
      "Assoc-voc       0.042445\n",
      "11th            0.036087\n",
      "Assoc-acdm      0.032770\n",
      "10th            0.028655\n",
      "7th-8th         0.019840\n",
      "Prof-school     0.017690\n",
      "9th             0.015786\n",
      "12th            0.013299\n",
      "Doctorate       0.012684\n",
      "5th-6th         0.010227\n",
      "1st-4th         0.005160\n",
      "Preschool       0.001566\n",
      "Name: count, dtype: float64\n",
      "marital_status\n",
      "Married-civ-spouse       0.459951\n",
      "Never-married            0.328071\n",
      "Divorced                 0.136456\n",
      "Separated                0.031480\n",
      "Widowed                  0.030498\n",
      "Married-spouse-absent    0.012838\n",
      "Married-AF-spouse        0.000706\n",
      "Name: count, dtype: float64\n",
      "occupation\n",
      "Prof-specialty       0.127150\n",
      "Craft-repair         0.125891\n",
      "Exec-managerial      0.124877\n",
      "Adm-clerical         0.115756\n",
      "Sales                0.112101\n",
      "Other-service        0.101198\n",
      "Machine-op-inspct    0.061486\n",
      "?                    0.056603\n",
      "Transport-moving     0.049048\n",
      "Handlers-cleaners    0.042076\n",
      "Farming-fishing      0.030528\n",
      "Tech-support         0.028501\n",
      "Protective-serv      0.019932\n",
      "Priv-house-serv      0.004576\n",
      "Armed-Forces         0.000276\n",
      "Name: count, dtype: float64\n",
      "relationship\n",
      "Husband           0.405190\n",
      "Not-in-family     0.255037\n",
      "Own-child         0.155651\n",
      "Unmarried         0.105835\n",
      "Wife              0.048157\n",
      "Other-relative    0.030129\n",
      "Name: count, dtype: float64\n",
      "race\n",
      "White                 0.854269\n",
      "Black                 0.095946\n",
      "Asian-Pac-Islander    0.031910\n",
      "Amer-Indian-Eskimo    0.009552\n",
      "Other                 0.008323\n",
      "Name: count, dtype: float64\n",
      "sex\n",
      "Male      0.669195\n",
      "Female    0.330805\n",
      "Name: count, dtype: float64\n",
      "native_country\n",
      "United-States                 0.895854\n",
      "Mexico                        0.019748\n",
      "?                             0.017905\n",
      "Philippines                   0.006081\n",
      "Germany                       0.004208\n",
      "Canada                        0.003716\n",
      "Puerto-Rico                   0.003501\n",
      "El-Salvador                   0.003256\n",
      "India                         0.003071\n",
      "Cuba                          0.002918\n",
      "England                       0.002764\n",
      "Jamaica                       0.002488\n",
      "South                         0.002457\n",
      "China                         0.002303\n",
      "Italy                         0.002242\n",
      "Dominican-Republic            0.002150\n",
      "Vietnam                       0.002058\n",
      "Guatemala                     0.001966\n",
      "Japan                         0.001904\n",
      "Poland                        0.001843\n",
      "Columbia                      0.001812\n",
      "Taiwan                        0.001566\n",
      "Haiti                         0.001351\n",
      "Iran                          0.001321\n",
      "Portugal                      0.001136\n",
      "Nicaragua                     0.001044\n",
      "Peru                          0.000952\n",
      "France                        0.000891\n",
      "Greece                        0.000891\n",
      "Ecuador                       0.000860\n",
      "Ireland                       0.000737\n",
      "Hong                          0.000614\n",
      "Cambodia                      0.000584\n",
      "Trinadad&Tobago               0.000584\n",
      "Laos                          0.000553\n",
      "Thailand                      0.000553\n",
      "Yugoslavia                    0.000491\n",
      "Outlying-US(Guam-USVI-etc)    0.000430\n",
      "Honduras                      0.000399\n",
      "Hungary                       0.000399\n",
      "Scotland                      0.000369\n",
      "Holand-Netherlands            0.000031\n",
      "Name: count, dtype: float64\n",
      "income\n",
      "<=50K    0.759183\n",
      ">50K     0.240817\n",
      "Name: count, dtype: float64\n"
     ]
    }
   ],
   "source": [
    "for var in categorical: \n",
    "    print(df[var].value_counts() / np.float64(len(df))) "
   ]
  },
  {
   "cell_type": "markdown",
   "id": "4cfb2df2-4afe-46a8-a4cf-7f75c4ba71d2",
   "metadata": {},
   "source": [
    "### Explore workclass variable "
   ]
  },
  {
   "cell_type": "code",
   "execution_count": 108,
   "id": "5af55944-6a80-4a41-bdf8-528277ebe59c",
   "metadata": {},
   "outputs": [
    {
     "name": "stdout",
     "output_type": "stream",
     "text": [
      "[' Self-emp-not-inc' ' Private' ' State-gov' ' Federal-gov' ' Local-gov'\n",
      " ' ?' ' Self-emp-inc' ' Without-pay' ' Never-worked']\n",
      "workclass\n",
      "Private             22696\n",
      "Self-emp-not-inc     2541\n",
      "Local-gov            2093\n",
      "?                    1836\n",
      "State-gov            1297\n",
      "Self-emp-inc         1116\n",
      "Federal-gov           960\n",
      "Without-pay            14\n",
      "Never-worked            7\n",
      "Name: count, dtype: int64\n"
     ]
    }
   ],
   "source": [
    "# check labels in workclass variable \n",
    "print(df.workclass.unique()) \n",
    "# check frequency distribution of values in workclass variable \n",
    "print(df.workclass.value_counts()) "
   ]
  },
  {
   "cell_type": "code",
   "execution_count": 118,
   "id": "2cae823b-5731-4dc0-bee2-87ede1204153",
   "metadata": {},
   "outputs": [],
   "source": [
    "# replace '?' values in workclass variable with `NaN` \n",
    "df.replace({'workclass': {'?': np.NaN}}, inplace=True)\n",
    "df['workclass'] = df['workclass'].replace('?', np.NaN)\n",
    " "
   ]
  },
  {
   "cell_type": "code",
   "execution_count": 120,
   "id": "6df42eed-c8e9-41df-9322-3d32d42c8d5b",
   "metadata": {},
   "outputs": [
    {
     "name": "stdout",
     "output_type": "stream",
     "text": [
      "workclass\n",
      "Private             22696\n",
      "Self-emp-not-inc     2541\n",
      "Local-gov            2093\n",
      "?                    1836\n",
      "State-gov            1297\n",
      "Self-emp-inc         1116\n",
      "Federal-gov           960\n",
      "Without-pay            14\n",
      "Never-worked            7\n",
      "Name: count, dtype: int64\n"
     ]
    }
   ],
   "source": [
    "# again check the frequency distribution of values in workclass variable \n",
    "print(df['workclass'].value_counts()) "
   ]
  },
  {
   "cell_type": "code",
   "execution_count": 122,
   "id": "94358e1b-3634-41d5-bb6b-3056c5fb425a",
   "metadata": {},
   "outputs": [
    {
     "name": "stdout",
     "output_type": "stream",
     "text": [
      "occupation\n",
      "Prof-specialty       4140\n",
      "Craft-repair         4099\n",
      "Exec-managerial      4066\n",
      "Adm-clerical         3769\n",
      "Sales                3650\n",
      "Other-service        3295\n",
      "Machine-op-inspct    2002\n",
      "?                    1843\n",
      "Transport-moving     1597\n",
      "Handlers-cleaners    1370\n",
      "Farming-fishing       994\n",
      "Tech-support          928\n",
      "Protective-serv       649\n",
      "Priv-house-serv       149\n",
      "Armed-Forces            9\n",
      "Name: count, dtype: int64\n"
     ]
    }
   ],
   "source": [
    "# again check the frequency distribution of values in occupation variable \n",
    "print(df.occupation.value_counts()) "
   ]
  },
  {
   "cell_type": "code",
   "execution_count": 293,
   "id": "5482ff30-66e9-4dba-b7d4-981afe05bb93",
   "metadata": {},
   "outputs": [],
   "source": [
    "df.replace({'occupation': {'?': np.NaN}}, inplace=True)\n",
    "df['occupation'] = df['occupation'].replace('?', np.NaN)\n"
   ]
  },
  {
   "cell_type": "markdown",
   "id": "36a91346-4f7d-4155-af19-b39f9f80abc4",
   "metadata": {},
   "source": [
    "### Explore native_country variable \n",
    "##### check labels in native_country variable"
   ]
  },
  {
   "cell_type": "code",
   "execution_count": 138,
   "id": "eb0f461b-04e9-4bb8-bad2-8c25978c22d7",
   "metadata": {},
   "outputs": [
    {
     "data": {
      "text/plain": [
       "array([' United-States', ' Cuba', ' Jamaica', ' India', ' ?', ' Mexico',\n",
       "       ' South', ' Puerto-Rico', ' Honduras', ' England', ' Canada',\n",
       "       ' Germany', ' Iran', ' Philippines', ' Italy', ' Poland',\n",
       "       ' Columbia', ' Cambodia', ' Thailand', ' Ecuador', ' Laos',\n",
       "       ' Taiwan', ' Haiti', ' Portugal', ' Dominican-Republic',\n",
       "       ' El-Salvador', ' France', ' Guatemala', ' China', ' Japan',\n",
       "       ' Yugoslavia', ' Peru', ' Outlying-US(Guam-USVI-etc)', ' Scotland',\n",
       "       ' Trinadad&Tobago', ' Greece', ' Nicaragua', ' Vietnam', ' Hong',\n",
       "       ' Ireland', ' Hungary', ' Holand-Netherlands'], dtype=object)"
      ]
     },
     "execution_count": 138,
     "metadata": {},
     "output_type": "execute_result"
    }
   ],
   "source": [
    "df.native_country.unique() "
   ]
  },
  {
   "cell_type": "code",
   "execution_count": 140,
   "id": "fbc58dc3-54ac-4c44-bf90-1ce0ef95b411",
   "metadata": {},
   "outputs": [
    {
     "name": "stdout",
     "output_type": "stream",
     "text": [
      "native_country\n",
      "United-States                 29169\n",
      "Mexico                          643\n",
      "?                               583\n",
      "Philippines                     198\n",
      "Germany                         137\n",
      "Canada                          121\n",
      "Puerto-Rico                     114\n",
      "El-Salvador                     106\n",
      "India                           100\n",
      "Cuba                             95\n",
      "England                          90\n",
      "Jamaica                          81\n",
      "South                            80\n",
      "China                            75\n",
      "Italy                            73\n",
      "Dominican-Republic               70\n",
      "Vietnam                          67\n",
      "Guatemala                        64\n",
      "Japan                            62\n",
      "Poland                           60\n",
      "Columbia                         59\n",
      "Taiwan                           51\n",
      "Haiti                            44\n",
      "Iran                             43\n",
      "Portugal                         37\n",
      "Nicaragua                        34\n",
      "Peru                             31\n",
      "France                           29\n",
      "Greece                           29\n",
      "Ecuador                          28\n",
      "Ireland                          24\n",
      "Hong                             20\n",
      "Cambodia                         19\n",
      "Trinadad&Tobago                  19\n",
      "Laos                             18\n",
      "Thailand                         18\n",
      "Yugoslavia                       16\n",
      "Outlying-US(Guam-USVI-etc)       14\n",
      "Honduras                         13\n",
      "Hungary                          13\n",
      "Scotland                         12\n",
      "Holand-Netherlands                1\n",
      "Name: count, dtype: int64\n"
     ]
    }
   ],
   "source": [
    "# check frequency distribution of values in native_country variable \n",
    "print(df.native_country.value_counts()) "
   ]
  },
  {
   "cell_type": "code",
   "execution_count": 146,
   "id": "730a31f9-537f-413c-bd2d-f17364eef260",
   "metadata": {},
   "outputs": [],
   "source": [
    "df.replace({'native_country': {'?': np.NaN}}, inplace=True)\n",
    "df['native_country'] = df['native_country'].replace('?', np.NaN)\n"
   ]
  },
  {
   "cell_type": "code",
   "execution_count": 148,
   "id": "6090afaf-9234-4d40-8118-5c96a3704d85",
   "metadata": {},
   "outputs": [
    {
     "name": "stdout",
     "output_type": "stream",
     "text": [
      "native_country\n",
      "United-States                 29169\n",
      "Mexico                          643\n",
      "?                               583\n",
      "Philippines                     198\n",
      "Germany                         137\n",
      "Canada                          121\n",
      "Puerto-Rico                     114\n",
      "El-Salvador                     106\n",
      "India                           100\n",
      "Cuba                             95\n",
      "England                          90\n",
      "Jamaica                          81\n",
      "South                            80\n",
      "China                            75\n",
      "Italy                            73\n",
      "Dominican-Republic               70\n",
      "Vietnam                          67\n",
      "Guatemala                        64\n",
      "Japan                            62\n",
      "Poland                           60\n",
      "Columbia                         59\n",
      "Taiwan                           51\n",
      "Haiti                            44\n",
      "Iran                             43\n",
      "Portugal                         37\n",
      "Nicaragua                        34\n",
      "Peru                             31\n",
      "France                           29\n",
      "Greece                           29\n",
      "Ecuador                          28\n",
      "Ireland                          24\n",
      "Hong                             20\n",
      "Cambodia                         19\n",
      "Trinadad&Tobago                  19\n",
      "Laos                             18\n",
      "Thailand                         18\n",
      "Yugoslavia                       16\n",
      "Outlying-US(Guam-USVI-etc)       14\n",
      "Honduras                         13\n",
      "Hungary                          13\n",
      "Scotland                         12\n",
      "Holand-Netherlands                1\n",
      "Name: count, dtype: int64\n"
     ]
    }
   ],
   "source": [
    "# again check the frequency distribution of values in native_country variable \n",
    "print(df.native_country.value_counts()) "
   ]
  },
  {
   "cell_type": "markdown",
   "id": "4a4e55de-3bf5-4fbc-aebe-9cf6d9594771",
   "metadata": {},
   "source": [
    "### Check missing values in categorical variables again "
   ]
  },
  {
   "cell_type": "code",
   "execution_count": 155,
   "id": "f330983c-97ed-4897-8a45-11b901f00479",
   "metadata": {},
   "outputs": [
    {
     "name": "stdout",
     "output_type": "stream",
     "text": [
      "workclass         0\n",
      "education         0\n",
      "marital_status    0\n",
      "occupation        0\n",
      "relationship      0\n",
      "race              0\n",
      "sex               0\n",
      "native_country    0\n",
      "income            0\n",
      "dtype: int64\n"
     ]
    }
   ],
   "source": [
    "\n",
    "print(df[categorical].isnull().sum()) "
   ]
  },
  {
   "cell_type": "code",
   "execution_count": 159,
   "id": "58f19867-ac9c-4ec4-bac8-0f4f5f15c423",
   "metadata": {},
   "outputs": [
    {
     "name": "stdout",
     "output_type": "stream",
     "text": [
      "workclass contains 9 Labels\n",
      "education contains 16 Labels\n",
      "marital_status contains 7 Labels\n",
      "occupation contains 15 Labels\n",
      "relationship contains 6 Labels\n",
      "race contains 5 Labels\n",
      "sex contains 2 Labels\n",
      "native_country contains 42 Labels\n",
      "income contains 2 Labels\n"
     ]
    }
   ],
   "source": [
    "# check for cardinality in categorical variables \n",
    "for var in categorical: \n",
    "    print(var,'contains',len(df[var].unique()),'Labels') "
   ]
  },
  {
   "cell_type": "markdown",
   "id": "8f3fc3d9-bcf2-464b-9df1-eb94b17eca08",
   "metadata": {},
   "source": [
    "### Explore Numerical Variables "
   ]
  },
  {
   "cell_type": "code",
   "execution_count": 162,
   "id": "d4a19bf6-7790-4058-9994-08d99bf40041",
   "metadata": {},
   "outputs": [
    {
     "name": "stdout",
     "output_type": "stream",
     "text": [
      "There are 6 numerical values \n",
      "numerical are: ['age', 'fnlwgt', 'education_num', 'capital_gain', 'capital_loss', 'hours_per_week']\n"
     ]
    }
   ],
   "source": [
    "\n",
    "numerical=[var for var in df.columns if df[var].dtype!='O'] \n",
    "print('There are {} numerical values '.format(len(numerical))) \n",
    "print('numerical are:',numerical) "
   ]
  },
  {
   "cell_type": "code",
   "execution_count": 164,
   "id": "ef027549-2919-4e92-b740-f3347f82a994",
   "metadata": {},
   "outputs": [
    {
     "name": "stdout",
     "output_type": "stream",
     "text": [
      "   age  fnlwgt  education_num  capital_gain  capital_loss  hours_per_week\n",
      "0   50   83311             13             0             0              13\n",
      "1   38  215646              9             0             0              40\n",
      "2   53  234721              7             0             0              40\n",
      "3   28  338409             13             0             0              40\n",
      "4   37  284582             14             0             0              40\n"
     ]
    }
   ],
   "source": [
    "# view the numerical variables \n",
    "print(df[numerical].head()) "
   ]
  },
  {
   "cell_type": "markdown",
   "id": "ae4695c1-1214-4efb-b528-1363845b0aa8",
   "metadata": {},
   "source": [
    "### Missing values in numerical variables "
   ]
  },
  {
   "cell_type": "code",
   "execution_count": 166,
   "id": "ec541a4f-3057-43a9-9df2-26ba511699b1",
   "metadata": {},
   "outputs": [
    {
     "name": "stdout",
     "output_type": "stream",
     "text": [
      "age               0\n",
      "fnlwgt            0\n",
      "education_num     0\n",
      "capital_gain      0\n",
      "capital_loss      0\n",
      "hours_per_week    0\n",
      "dtype: int64\n"
     ]
    }
   ],
   "source": [
    "\n",
    "# check missing values in numerical variables \n",
    "# check missing values in numerical variables \n",
    "print(df[numerical].isnull().sum()) "
   ]
  },
  {
   "cell_type": "markdown",
   "id": "2023534c-bdd3-4304-a32c-012375266151",
   "metadata": {},
   "source": [
    " ### Declare feature vector and target variable  "
   ]
  },
  {
   "cell_type": "code",
   "execution_count": 170,
   "id": "1b9adc79-f60e-41b6-964c-2967bb1ec330",
   "metadata": {},
   "outputs": [],
   "source": [
    "X = df.drop(['income'], axis=1) \n",
    "y = df['income'] "
   ]
  },
  {
   "cell_type": "markdown",
   "id": "9a33c172-92a7-4fa0-bbcd-20df6ed1f3d2",
   "metadata": {},
   "source": [
    "### Split data into separate training and test set "
   ]
  },
  {
   "cell_type": "code",
   "execution_count": 173,
   "id": "acd290a3-0fb7-4ec2-bd55-4d4736721ddd",
   "metadata": {},
   "outputs": [],
   "source": [
    "\n",
    "from sklearn.model_selection import train_test_split \n",
    "X_train, X_test, y_train, y_test = train_test_split(X, y, test_size = 0.3, random_state = 0) "
   ]
  },
  {
   "cell_type": "code",
   "execution_count": 175,
   "id": "e2bac4cb-d641-4b0a-9d67-981005ecbdfd",
   "metadata": {},
   "outputs": [
    {
     "name": "stdout",
     "output_type": "stream",
     "text": [
      "(22792, 14) (9768, 14)\n"
     ]
    }
   ],
   "source": [
    "#check the shape of X_train and X_test \n",
    "print(X_train.shape, X_test.shape) "
   ]
  },
  {
   "cell_type": "markdown",
   "id": "ec45dbc7-e2a2-4b20-9a17-417af1281d37",
   "metadata": {},
   "source": [
    "### Feature Engineering  "
   ]
  },
  {
   "cell_type": "code",
   "execution_count": 178,
   "id": "218a5c3c-2cb7-4a5d-908c-ce67957e0c94",
   "metadata": {},
   "outputs": [
    {
     "name": "stdout",
     "output_type": "stream",
     "text": [
      "categrical :\n",
      "\n",
      " ['workclass', 'education', 'marital_status', 'occupation', 'relationship', 'race', 'sex', 'native_country']\n"
     ]
    }
   ],
   "source": [
    "categorical=[var for var in X_train.columns if X_train[var].dtype=='O'] \n",
    "print('categrical :\\n\\n',categorical,) "
   ]
  },
  {
   "cell_type": "code",
   "execution_count": 180,
   "id": "e45850aa-c1fe-480f-99cd-aeadd195c89c",
   "metadata": {},
   "outputs": [
    {
     "data": {
      "text/plain": [
       "['age',\n",
       " 'fnlwgt',\n",
       " 'education_num',\n",
       " 'capital_gain',\n",
       " 'capital_loss',\n",
       " 'hours_per_week']"
      ]
     },
     "execution_count": 180,
     "metadata": {},
     "output_type": "execute_result"
    }
   ],
   "source": [
    "# display numerical variables \n",
    " \n",
    "numerical = [col for col in X_train.columns if X_train[col].dtypes != 'O'] \n",
    "numerical"
   ]
  },
  {
   "cell_type": "markdown",
   "id": "a31ccca1-6182-4820-8e3f-35f0dde84f2c",
   "metadata": {},
   "source": [
    "### Engineering missing values in categorical variables "
   ]
  },
  {
   "cell_type": "code",
   "execution_count": 183,
   "id": "883e52e2-5cc4-4b00-b650-9c8770d91334",
   "metadata": {},
   "outputs": [
    {
     "name": "stdout",
     "output_type": "stream",
     "text": [
      "workclass         0.0\n",
      "education         0.0\n",
      "marital_status    0.0\n",
      "occupation        0.0\n",
      "relationship      0.0\n",
      "race              0.0\n",
      "sex               0.0\n",
      "native_country    0.0\n",
      "dtype: float64\n"
     ]
    }
   ],
   "source": [
    "# print percentage of missing values in the categorical variables in training set \n",
    "print(X_train[categorical].isnull().mean()) \n",
    "# print categorical variables with missing data \n",
    "for col in categorical: \n",
    "    if X_train[col].isnull().mean()>0: \n",
    "        print('missing variable are  :',col,X_train[col].isnull().mean()) "
   ]
  },
  {
   "cell_type": "code",
   "execution_count": 189,
   "id": "9b2f11bc-bed1-4066-8220-6d4732e6a848",
   "metadata": {},
   "outputs": [],
   "source": [
    "for df2 in [X_train, X_test]:\n",
    "    df2['workclass'] = df2['workclass'].fillna(X_train['workclass'].mode()[0])\n",
    "    df2['occupation'] = df2['occupation'].fillna(X_train['occupation'].mode()[0])\n",
    "    df2['native_country'] = df2['native_country'].fillna(X_train['native_country'].mode()[0])\n"
   ]
  },
  {
   "cell_type": "code",
   "execution_count": 187,
   "id": "9abd4d63-fbb1-444f-92b5-0a8e07b31e18",
   "metadata": {},
   "outputs": [
    {
     "name": "stdout",
     "output_type": "stream",
     "text": [
      "workclass         0\n",
      "education         0\n",
      "marital_status    0\n",
      "occupation        0\n",
      "relationship      0\n",
      "race              0\n",
      "sex               0\n",
      "native_country    0\n",
      "dtype: int64\n"
     ]
    }
   ],
   "source": [
    " \n",
    "# check missing values in categorical variables in X_train \n",
    "print(X_train[categorical].isnull().sum()) "
   ]
  },
  {
   "cell_type": "code",
   "execution_count": 191,
   "id": "379bc3eb-a845-4060-a6ff-00837127e79d",
   "metadata": {},
   "outputs": [
    {
     "data": {
      "text/plain": [
       "workclass         0\n",
       "education         0\n",
       "marital_status    0\n",
       "occupation        0\n",
       "relationship      0\n",
       "race              0\n",
       "sex               0\n",
       "native_country    0\n",
       "dtype: int64"
      ]
     },
     "execution_count": 191,
     "metadata": {},
     "output_type": "execute_result"
    }
   ],
   "source": [
    "# check missing values in categorical variables in X_test \n",
    "X_test[categorical].isnull().sum()"
   ]
  },
  {
   "cell_type": "markdown",
   "id": "b1bed875-9825-49a7-a2ec-6b1522d90a65",
   "metadata": {},
   "source": [
    "##### As a final check, I will check for missing values in X_train and X_test. "
   ]
  },
  {
   "cell_type": "code",
   "execution_count": 196,
   "id": "5c5ae83b-864c-4b0c-b351-8cd4cfac2ea1",
   "metadata": {},
   "outputs": [
    {
     "name": "stdout",
     "output_type": "stream",
     "text": [
      "age               0\n",
      "workclass         0\n",
      "fnlwgt            0\n",
      "education         0\n",
      "education_num     0\n",
      "marital_status    0\n",
      "occupation        0\n",
      "relationship      0\n",
      "race              0\n",
      "sex               0\n",
      "capital_gain      0\n",
      "capital_loss      0\n",
      "hours_per_week    0\n",
      "native_country    0\n",
      "dtype: int64\n"
     ]
    }
   ],
   "source": [
    "\n",
    "# check missing values in X_train \n",
    "print(X_train.isnull().sum()) "
   ]
  },
  {
   "cell_type": "code",
   "execution_count": 198,
   "id": "bd890e3d-50c8-45e4-97b2-436452e04ac2",
   "metadata": {},
   "outputs": [
    {
     "name": "stdout",
     "output_type": "stream",
     "text": [
      "age               0\n",
      "workclass         0\n",
      "fnlwgt            0\n",
      "education         0\n",
      "education_num     0\n",
      "marital_status    0\n",
      "occupation        0\n",
      "relationship      0\n",
      "race              0\n",
      "sex               0\n",
      "capital_gain      0\n",
      "capital_loss      0\n",
      "hours_per_week    0\n",
      "native_country    0\n",
      "dtype: int64\n"
     ]
    }
   ],
   "source": [
    "# check missing values in X_test \n",
    "print(X_test.isnull().sum()) "
   ]
  },
  {
   "cell_type": "markdown",
   "id": "53a456f8-3dc7-4bff-ab36-b1be5390ea77",
   "metadata": {},
   "source": [
    "### Encode categorical variable"
   ]
  },
  {
   "cell_type": "code",
   "execution_count": 214,
   "id": "dc3317a3-f10d-45d6-b2d3-6e0692b98131",
   "metadata": {},
   "outputs": [
    {
     "name": "stdout",
     "output_type": "stream",
     "text": [
      "['workclass', 'education', 'marital_status', 'occupation', 'relationship', 'race', 'sex', 'native_country']\n"
     ]
    }
   ],
   "source": [
    " # print categorical variables \n",
    "print(categorical) \n"
   ]
  },
  {
   "cell_type": "code",
   "execution_count": 209,
   "id": "b1f38e03-3d83-4ce3-96d4-b407ecaae797",
   "metadata": {},
   "outputs": [
    {
     "name": "stdout",
     "output_type": "stream",
     "text": [
      "           workclass      education       marital_status         occupation  \\\n",
      "20721   Self-emp-inc   Some-college   Married-civ-spouse   Transport-moving   \n",
      "32097        Private        HS-grad   Married-civ-spouse       Craft-repair   \n",
      "25205      State-gov        HS-grad             Divorced       Adm-clerical   \n",
      "23491        Private      Bachelors        Never-married    Farming-fishing   \n",
      "12367        Private   Some-college        Never-married       Adm-clerical   \n",
      "\n",
      "         relationship    race      sex  native_country  \n",
      "20721         Husband   Black     Male           Haiti  \n",
      "32097         Husband   White     Male   United-States  \n",
      "25205       Unmarried   White   Female   United-States  \n",
      "23491   Not-in-family   White     Male   United-States  \n",
      "12367       Own-child   White     Male           India  \n"
     ]
    }
   ],
   "source": [
    "print(X_train[categorical].head()) "
   ]
  },
  {
   "cell_type": "code",
   "execution_count": 219,
   "id": "69c969a4-f246-4208-8765-7a6d368ff972",
   "metadata": {},
   "outputs": [],
   "source": [
    "# import category encoders \n",
    "import category_encoders as ce \n",
    "# encode remaining variables with one-hot encoding \n",
    "encoder = ce.OneHotEncoder(cols=['workclass', 'education', 'marital_status', 'occupation', \n",
    "'relationship',  \n",
    "'race', 'sex', 'native_country']) \n",
    "X_train = encoder.fit_transform(X_train) \n",
    "X_test = encoder.transform(X_test) "
   ]
  },
  {
   "cell_type": "code",
   "execution_count": 218,
   "id": "ff01bb42-5db5-4ceb-b3ea-97d204e2602d",
   "metadata": {},
   "outputs": [
    {
     "name": "stdout",
     "output_type": "stream",
     "text": [
      "Collecting category_encoders\n",
      "  Downloading category_encoders-2.7.0-py3-none-any.whl.metadata (7.9 kB)\n",
      "Requirement already satisfied: numpy>=1.14.0 in c:\\users\\user\\anaconda3\\lib\\site-packages (from category_encoders) (1.26.4)\n",
      "Requirement already satisfied: pandas>=1.0.5 in c:\\users\\user\\anaconda3\\lib\\site-packages (from category_encoders) (2.2.2)\n",
      "Requirement already satisfied: patsy>=0.5.1 in c:\\users\\user\\anaconda3\\lib\\site-packages (from category_encoders) (0.5.6)\n",
      "Requirement already satisfied: scikit-learn<1.6.0,>=1.0.0 in c:\\users\\user\\anaconda3\\lib\\site-packages (from category_encoders) (1.5.1)\n",
      "Requirement already satisfied: scipy>=1.0.0 in c:\\users\\user\\anaconda3\\lib\\site-packages (from category_encoders) (1.13.1)\n",
      "Requirement already satisfied: statsmodels>=0.9.0 in c:\\users\\user\\anaconda3\\lib\\site-packages (from category_encoders) (0.14.2)\n",
      "Requirement already satisfied: python-dateutil>=2.8.2 in c:\\users\\user\\anaconda3\\lib\\site-packages (from pandas>=1.0.5->category_encoders) (2.9.0.post0)\n",
      "Requirement already satisfied: pytz>=2020.1 in c:\\users\\user\\anaconda3\\lib\\site-packages (from pandas>=1.0.5->category_encoders) (2024.1)\n",
      "Requirement already satisfied: tzdata>=2022.7 in c:\\users\\user\\anaconda3\\lib\\site-packages (from pandas>=1.0.5->category_encoders) (2023.3)\n",
      "Requirement already satisfied: six in c:\\users\\user\\anaconda3\\lib\\site-packages (from patsy>=0.5.1->category_encoders) (1.16.0)\n",
      "Requirement already satisfied: joblib>=1.2.0 in c:\\users\\user\\anaconda3\\lib\\site-packages (from scikit-learn<1.6.0,>=1.0.0->category_encoders) (1.4.2)\n",
      "Requirement already satisfied: threadpoolctl>=3.1.0 in c:\\users\\user\\anaconda3\\lib\\site-packages (from scikit-learn<1.6.0,>=1.0.0->category_encoders) (3.5.0)\n",
      "Requirement already satisfied: packaging>=21.3 in c:\\users\\user\\anaconda3\\lib\\site-packages (from statsmodels>=0.9.0->category_encoders) (24.1)\n",
      "Downloading category_encoders-2.7.0-py3-none-any.whl (85 kB)\n",
      "Installing collected packages: category_encoders\n",
      "Successfully installed category_encoders-2.7.0\n"
     ]
    }
   ],
   "source": [
    "!pip install category_encoders\n"
   ]
  },
  {
   "cell_type": "markdown",
   "id": "2869e901-e896-40a0-a172-f9e6beca2b3d",
   "metadata": {},
   "source": [
    "#### We can see that from the initial 14 columns, we now have 113 columns. \n",
    "#### Similarly, I will take a look at the X_test set."
   ]
  },
  {
   "cell_type": "code",
   "execution_count": 224,
   "id": "42c5515b-b940-4d73-8338-fd4a73885b03",
   "metadata": {},
   "outputs": [
    {
     "data": {
      "text/plain": [
       "(9768, 108)"
      ]
     },
     "execution_count": 224,
     "metadata": {},
     "output_type": "execute_result"
    }
   ],
   "source": [
    " \n",
    "X_test.head() \n",
    "X_test.shape "
   ]
  },
  {
   "cell_type": "markdown",
   "id": "e1fcb98b-4233-4bba-8ece-f39f00acf9f2",
   "metadata": {},
   "source": [
    " ### Feature Scaling "
   ]
  },
  {
   "cell_type": "code",
   "execution_count": 227,
   "id": "acb19400-d905-4dab-ab43-839734e40e92",
   "metadata": {},
   "outputs": [],
   "source": [
    "cols = X_train.columns "
   ]
  },
  {
   "cell_type": "markdown",
   "id": "be0b517d-44a9-4964-b2e5-e741fad86d5f",
   "metadata": {},
   "source": [
    " ### Model training "
   ]
  },
  {
   "cell_type": "code",
   "execution_count": 230,
   "id": "a7d074ab-1447-442a-bd0a-fdd6ec7f16ef",
   "metadata": {},
   "outputs": [
    {
     "data": {
      "text/html": [
       "<style>#sk-container-id-1 {\n",
       "  /* Definition of color scheme common for light and dark mode */\n",
       "  --sklearn-color-text: black;\n",
       "  --sklearn-color-line: gray;\n",
       "  /* Definition of color scheme for unfitted estimators */\n",
       "  --sklearn-color-unfitted-level-0: #fff5e6;\n",
       "  --sklearn-color-unfitted-level-1: #f6e4d2;\n",
       "  --sklearn-color-unfitted-level-2: #ffe0b3;\n",
       "  --sklearn-color-unfitted-level-3: chocolate;\n",
       "  /* Definition of color scheme for fitted estimators */\n",
       "  --sklearn-color-fitted-level-0: #f0f8ff;\n",
       "  --sklearn-color-fitted-level-1: #d4ebff;\n",
       "  --sklearn-color-fitted-level-2: #b3dbfd;\n",
       "  --sklearn-color-fitted-level-3: cornflowerblue;\n",
       "\n",
       "  /* Specific color for light theme */\n",
       "  --sklearn-color-text-on-default-background: var(--sg-text-color, var(--theme-code-foreground, var(--jp-content-font-color1, black)));\n",
       "  --sklearn-color-background: var(--sg-background-color, var(--theme-background, var(--jp-layout-color0, white)));\n",
       "  --sklearn-color-border-box: var(--sg-text-color, var(--theme-code-foreground, var(--jp-content-font-color1, black)));\n",
       "  --sklearn-color-icon: #696969;\n",
       "\n",
       "  @media (prefers-color-scheme: dark) {\n",
       "    /* Redefinition of color scheme for dark theme */\n",
       "    --sklearn-color-text-on-default-background: var(--sg-text-color, var(--theme-code-foreground, var(--jp-content-font-color1, white)));\n",
       "    --sklearn-color-background: var(--sg-background-color, var(--theme-background, var(--jp-layout-color0, #111)));\n",
       "    --sklearn-color-border-box: var(--sg-text-color, var(--theme-code-foreground, var(--jp-content-font-color1, white)));\n",
       "    --sklearn-color-icon: #878787;\n",
       "  }\n",
       "}\n",
       "\n",
       "#sk-container-id-1 {\n",
       "  color: var(--sklearn-color-text);\n",
       "}\n",
       "\n",
       "#sk-container-id-1 pre {\n",
       "  padding: 0;\n",
       "}\n",
       "\n",
       "#sk-container-id-1 input.sk-hidden--visually {\n",
       "  border: 0;\n",
       "  clip: rect(1px 1px 1px 1px);\n",
       "  clip: rect(1px, 1px, 1px, 1px);\n",
       "  height: 1px;\n",
       "  margin: -1px;\n",
       "  overflow: hidden;\n",
       "  padding: 0;\n",
       "  position: absolute;\n",
       "  width: 1px;\n",
       "}\n",
       "\n",
       "#sk-container-id-1 div.sk-dashed-wrapped {\n",
       "  border: 1px dashed var(--sklearn-color-line);\n",
       "  margin: 0 0.4em 0.5em 0.4em;\n",
       "  box-sizing: border-box;\n",
       "  padding-bottom: 0.4em;\n",
       "  background-color: var(--sklearn-color-background);\n",
       "}\n",
       "\n",
       "#sk-container-id-1 div.sk-container {\n",
       "  /* jupyter's `normalize.less` sets `[hidden] { display: none; }`\n",
       "     but bootstrap.min.css set `[hidden] { display: none !important; }`\n",
       "     so we also need the `!important` here to be able to override the\n",
       "     default hidden behavior on the sphinx rendered scikit-learn.org.\n",
       "     See: https://github.com/scikit-learn/scikit-learn/issues/21755 */\n",
       "  display: inline-block !important;\n",
       "  position: relative;\n",
       "}\n",
       "\n",
       "#sk-container-id-1 div.sk-text-repr-fallback {\n",
       "  display: none;\n",
       "}\n",
       "\n",
       "div.sk-parallel-item,\n",
       "div.sk-serial,\n",
       "div.sk-item {\n",
       "  /* draw centered vertical line to link estimators */\n",
       "  background-image: linear-gradient(var(--sklearn-color-text-on-default-background), var(--sklearn-color-text-on-default-background));\n",
       "  background-size: 2px 100%;\n",
       "  background-repeat: no-repeat;\n",
       "  background-position: center center;\n",
       "}\n",
       "\n",
       "/* Parallel-specific style estimator block */\n",
       "\n",
       "#sk-container-id-1 div.sk-parallel-item::after {\n",
       "  content: \"\";\n",
       "  width: 100%;\n",
       "  border-bottom: 2px solid var(--sklearn-color-text-on-default-background);\n",
       "  flex-grow: 1;\n",
       "}\n",
       "\n",
       "#sk-container-id-1 div.sk-parallel {\n",
       "  display: flex;\n",
       "  align-items: stretch;\n",
       "  justify-content: center;\n",
       "  background-color: var(--sklearn-color-background);\n",
       "  position: relative;\n",
       "}\n",
       "\n",
       "#sk-container-id-1 div.sk-parallel-item {\n",
       "  display: flex;\n",
       "  flex-direction: column;\n",
       "}\n",
       "\n",
       "#sk-container-id-1 div.sk-parallel-item:first-child::after {\n",
       "  align-self: flex-end;\n",
       "  width: 50%;\n",
       "}\n",
       "\n",
       "#sk-container-id-1 div.sk-parallel-item:last-child::after {\n",
       "  align-self: flex-start;\n",
       "  width: 50%;\n",
       "}\n",
       "\n",
       "#sk-container-id-1 div.sk-parallel-item:only-child::after {\n",
       "  width: 0;\n",
       "}\n",
       "\n",
       "/* Serial-specific style estimator block */\n",
       "\n",
       "#sk-container-id-1 div.sk-serial {\n",
       "  display: flex;\n",
       "  flex-direction: column;\n",
       "  align-items: center;\n",
       "  background-color: var(--sklearn-color-background);\n",
       "  padding-right: 1em;\n",
       "  padding-left: 1em;\n",
       "}\n",
       "\n",
       "\n",
       "/* Toggleable style: style used for estimator/Pipeline/ColumnTransformer box that is\n",
       "clickable and can be expanded/collapsed.\n",
       "- Pipeline and ColumnTransformer use this feature and define the default style\n",
       "- Estimators will overwrite some part of the style using the `sk-estimator` class\n",
       "*/\n",
       "\n",
       "/* Pipeline and ColumnTransformer style (default) */\n",
       "\n",
       "#sk-container-id-1 div.sk-toggleable {\n",
       "  /* Default theme specific background. It is overwritten whether we have a\n",
       "  specific estimator or a Pipeline/ColumnTransformer */\n",
       "  background-color: var(--sklearn-color-background);\n",
       "}\n",
       "\n",
       "/* Toggleable label */\n",
       "#sk-container-id-1 label.sk-toggleable__label {\n",
       "  cursor: pointer;\n",
       "  display: block;\n",
       "  width: 100%;\n",
       "  margin-bottom: 0;\n",
       "  padding: 0.5em;\n",
       "  box-sizing: border-box;\n",
       "  text-align: center;\n",
       "}\n",
       "\n",
       "#sk-container-id-1 label.sk-toggleable__label-arrow:before {\n",
       "  /* Arrow on the left of the label */\n",
       "  content: \"▸\";\n",
       "  float: left;\n",
       "  margin-right: 0.25em;\n",
       "  color: var(--sklearn-color-icon);\n",
       "}\n",
       "\n",
       "#sk-container-id-1 label.sk-toggleable__label-arrow:hover:before {\n",
       "  color: var(--sklearn-color-text);\n",
       "}\n",
       "\n",
       "/* Toggleable content - dropdown */\n",
       "\n",
       "#sk-container-id-1 div.sk-toggleable__content {\n",
       "  max-height: 0;\n",
       "  max-width: 0;\n",
       "  overflow: hidden;\n",
       "  text-align: left;\n",
       "  /* unfitted */\n",
       "  background-color: var(--sklearn-color-unfitted-level-0);\n",
       "}\n",
       "\n",
       "#sk-container-id-1 div.sk-toggleable__content.fitted {\n",
       "  /* fitted */\n",
       "  background-color: var(--sklearn-color-fitted-level-0);\n",
       "}\n",
       "\n",
       "#sk-container-id-1 div.sk-toggleable__content pre {\n",
       "  margin: 0.2em;\n",
       "  border-radius: 0.25em;\n",
       "  color: var(--sklearn-color-text);\n",
       "  /* unfitted */\n",
       "  background-color: var(--sklearn-color-unfitted-level-0);\n",
       "}\n",
       "\n",
       "#sk-container-id-1 div.sk-toggleable__content.fitted pre {\n",
       "  /* unfitted */\n",
       "  background-color: var(--sklearn-color-fitted-level-0);\n",
       "}\n",
       "\n",
       "#sk-container-id-1 input.sk-toggleable__control:checked~div.sk-toggleable__content {\n",
       "  /* Expand drop-down */\n",
       "  max-height: 200px;\n",
       "  max-width: 100%;\n",
       "  overflow: auto;\n",
       "}\n",
       "\n",
       "#sk-container-id-1 input.sk-toggleable__control:checked~label.sk-toggleable__label-arrow:before {\n",
       "  content: \"▾\";\n",
       "}\n",
       "\n",
       "/* Pipeline/ColumnTransformer-specific style */\n",
       "\n",
       "#sk-container-id-1 div.sk-label input.sk-toggleable__control:checked~label.sk-toggleable__label {\n",
       "  color: var(--sklearn-color-text);\n",
       "  background-color: var(--sklearn-color-unfitted-level-2);\n",
       "}\n",
       "\n",
       "#sk-container-id-1 div.sk-label.fitted input.sk-toggleable__control:checked~label.sk-toggleable__label {\n",
       "  background-color: var(--sklearn-color-fitted-level-2);\n",
       "}\n",
       "\n",
       "/* Estimator-specific style */\n",
       "\n",
       "/* Colorize estimator box */\n",
       "#sk-container-id-1 div.sk-estimator input.sk-toggleable__control:checked~label.sk-toggleable__label {\n",
       "  /* unfitted */\n",
       "  background-color: var(--sklearn-color-unfitted-level-2);\n",
       "}\n",
       "\n",
       "#sk-container-id-1 div.sk-estimator.fitted input.sk-toggleable__control:checked~label.sk-toggleable__label {\n",
       "  /* fitted */\n",
       "  background-color: var(--sklearn-color-fitted-level-2);\n",
       "}\n",
       "\n",
       "#sk-container-id-1 div.sk-label label.sk-toggleable__label,\n",
       "#sk-container-id-1 div.sk-label label {\n",
       "  /* The background is the default theme color */\n",
       "  color: var(--sklearn-color-text-on-default-background);\n",
       "}\n",
       "\n",
       "/* On hover, darken the color of the background */\n",
       "#sk-container-id-1 div.sk-label:hover label.sk-toggleable__label {\n",
       "  color: var(--sklearn-color-text);\n",
       "  background-color: var(--sklearn-color-unfitted-level-2);\n",
       "}\n",
       "\n",
       "/* Label box, darken color on hover, fitted */\n",
       "#sk-container-id-1 div.sk-label.fitted:hover label.sk-toggleable__label.fitted {\n",
       "  color: var(--sklearn-color-text);\n",
       "  background-color: var(--sklearn-color-fitted-level-2);\n",
       "}\n",
       "\n",
       "/* Estimator label */\n",
       "\n",
       "#sk-container-id-1 div.sk-label label {\n",
       "  font-family: monospace;\n",
       "  font-weight: bold;\n",
       "  display: inline-block;\n",
       "  line-height: 1.2em;\n",
       "}\n",
       "\n",
       "#sk-container-id-1 div.sk-label-container {\n",
       "  text-align: center;\n",
       "}\n",
       "\n",
       "/* Estimator-specific */\n",
       "#sk-container-id-1 div.sk-estimator {\n",
       "  font-family: monospace;\n",
       "  border: 1px dotted var(--sklearn-color-border-box);\n",
       "  border-radius: 0.25em;\n",
       "  box-sizing: border-box;\n",
       "  margin-bottom: 0.5em;\n",
       "  /* unfitted */\n",
       "  background-color: var(--sklearn-color-unfitted-level-0);\n",
       "}\n",
       "\n",
       "#sk-container-id-1 div.sk-estimator.fitted {\n",
       "  /* fitted */\n",
       "  background-color: var(--sklearn-color-fitted-level-0);\n",
       "}\n",
       "\n",
       "/* on hover */\n",
       "#sk-container-id-1 div.sk-estimator:hover {\n",
       "  /* unfitted */\n",
       "  background-color: var(--sklearn-color-unfitted-level-2);\n",
       "}\n",
       "\n",
       "#sk-container-id-1 div.sk-estimator.fitted:hover {\n",
       "  /* fitted */\n",
       "  background-color: var(--sklearn-color-fitted-level-2);\n",
       "}\n",
       "\n",
       "/* Specification for estimator info (e.g. \"i\" and \"?\") */\n",
       "\n",
       "/* Common style for \"i\" and \"?\" */\n",
       "\n",
       ".sk-estimator-doc-link,\n",
       "a:link.sk-estimator-doc-link,\n",
       "a:visited.sk-estimator-doc-link {\n",
       "  float: right;\n",
       "  font-size: smaller;\n",
       "  line-height: 1em;\n",
       "  font-family: monospace;\n",
       "  background-color: var(--sklearn-color-background);\n",
       "  border-radius: 1em;\n",
       "  height: 1em;\n",
       "  width: 1em;\n",
       "  text-decoration: none !important;\n",
       "  margin-left: 1ex;\n",
       "  /* unfitted */\n",
       "  border: var(--sklearn-color-unfitted-level-1) 1pt solid;\n",
       "  color: var(--sklearn-color-unfitted-level-1);\n",
       "}\n",
       "\n",
       ".sk-estimator-doc-link.fitted,\n",
       "a:link.sk-estimator-doc-link.fitted,\n",
       "a:visited.sk-estimator-doc-link.fitted {\n",
       "  /* fitted */\n",
       "  border: var(--sklearn-color-fitted-level-1) 1pt solid;\n",
       "  color: var(--sklearn-color-fitted-level-1);\n",
       "}\n",
       "\n",
       "/* On hover */\n",
       "div.sk-estimator:hover .sk-estimator-doc-link:hover,\n",
       ".sk-estimator-doc-link:hover,\n",
       "div.sk-label-container:hover .sk-estimator-doc-link:hover,\n",
       ".sk-estimator-doc-link:hover {\n",
       "  /* unfitted */\n",
       "  background-color: var(--sklearn-color-unfitted-level-3);\n",
       "  color: var(--sklearn-color-background);\n",
       "  text-decoration: none;\n",
       "}\n",
       "\n",
       "div.sk-estimator.fitted:hover .sk-estimator-doc-link.fitted:hover,\n",
       ".sk-estimator-doc-link.fitted:hover,\n",
       "div.sk-label-container:hover .sk-estimator-doc-link.fitted:hover,\n",
       ".sk-estimator-doc-link.fitted:hover {\n",
       "  /* fitted */\n",
       "  background-color: var(--sklearn-color-fitted-level-3);\n",
       "  color: var(--sklearn-color-background);\n",
       "  text-decoration: none;\n",
       "}\n",
       "\n",
       "/* Span, style for the box shown on hovering the info icon */\n",
       ".sk-estimator-doc-link span {\n",
       "  display: none;\n",
       "  z-index: 9999;\n",
       "  position: relative;\n",
       "  font-weight: normal;\n",
       "  right: .2ex;\n",
       "  padding: .5ex;\n",
       "  margin: .5ex;\n",
       "  width: min-content;\n",
       "  min-width: 20ex;\n",
       "  max-width: 50ex;\n",
       "  color: var(--sklearn-color-text);\n",
       "  box-shadow: 2pt 2pt 4pt #999;\n",
       "  /* unfitted */\n",
       "  background: var(--sklearn-color-unfitted-level-0);\n",
       "  border: .5pt solid var(--sklearn-color-unfitted-level-3);\n",
       "}\n",
       "\n",
       ".sk-estimator-doc-link.fitted span {\n",
       "  /* fitted */\n",
       "  background: var(--sklearn-color-fitted-level-0);\n",
       "  border: var(--sklearn-color-fitted-level-3);\n",
       "}\n",
       "\n",
       ".sk-estimator-doc-link:hover span {\n",
       "  display: block;\n",
       "}\n",
       "\n",
       "/* \"?\"-specific style due to the `<a>` HTML tag */\n",
       "\n",
       "#sk-container-id-1 a.estimator_doc_link {\n",
       "  float: right;\n",
       "  font-size: 1rem;\n",
       "  line-height: 1em;\n",
       "  font-family: monospace;\n",
       "  background-color: var(--sklearn-color-background);\n",
       "  border-radius: 1rem;\n",
       "  height: 1rem;\n",
       "  width: 1rem;\n",
       "  text-decoration: none;\n",
       "  /* unfitted */\n",
       "  color: var(--sklearn-color-unfitted-level-1);\n",
       "  border: var(--sklearn-color-unfitted-level-1) 1pt solid;\n",
       "}\n",
       "\n",
       "#sk-container-id-1 a.estimator_doc_link.fitted {\n",
       "  /* fitted */\n",
       "  border: var(--sklearn-color-fitted-level-1) 1pt solid;\n",
       "  color: var(--sklearn-color-fitted-level-1);\n",
       "}\n",
       "\n",
       "/* On hover */\n",
       "#sk-container-id-1 a.estimator_doc_link:hover {\n",
       "  /* unfitted */\n",
       "  background-color: var(--sklearn-color-unfitted-level-3);\n",
       "  color: var(--sklearn-color-background);\n",
       "  text-decoration: none;\n",
       "}\n",
       "\n",
       "#sk-container-id-1 a.estimator_doc_link.fitted:hover {\n",
       "  /* fitted */\n",
       "  background-color: var(--sklearn-color-fitted-level-3);\n",
       "}\n",
       "</style><div id=\"sk-container-id-1\" class=\"sk-top-container\"><div class=\"sk-text-repr-fallback\"><pre>GaussianNB()</pre><b>In a Jupyter environment, please rerun this cell to show the HTML representation or trust the notebook. <br />On GitHub, the HTML representation is unable to render, please try loading this page with nbviewer.org.</b></div><div class=\"sk-container\" hidden><div class=\"sk-item\"><div class=\"sk-estimator fitted sk-toggleable\"><input class=\"sk-toggleable__control sk-hidden--visually\" id=\"sk-estimator-id-1\" type=\"checkbox\" checked><label for=\"sk-estimator-id-1\" class=\"sk-toggleable__label fitted sk-toggleable__label-arrow fitted\">&nbsp;&nbsp;GaussianNB<a class=\"sk-estimator-doc-link fitted\" rel=\"noreferrer\" target=\"_blank\" href=\"https://scikit-learn.org/1.5/modules/generated/sklearn.naive_bayes.GaussianNB.html\">?<span>Documentation for GaussianNB</span></a><span class=\"sk-estimator-doc-link fitted\">i<span>Fitted</span></span></label><div class=\"sk-toggleable__content fitted\"><pre>GaussianNB()</pre></div> </div></div></div></div>"
      ],
      "text/plain": [
       "GaussianNB()"
      ]
     },
     "execution_count": 230,
     "metadata": {},
     "output_type": "execute_result"
    }
   ],
   "source": [
    " # train a Gaussian Naive Bayes classifier on the training set \n",
    "from sklearn.naive_bayes import GaussianNB \n",
    "# instantiate the model \n",
    "gnb = GaussianNB() \n",
    "# fit the model \n",
    "gnb.fit(X_train, y_train) "
   ]
  },
  {
   "cell_type": "markdown",
   "id": "80b9abbd-a4cc-42a2-8cfb-08ac417b1d01",
   "metadata": {},
   "source": [
    "### Predict the results "
   ]
  },
  {
   "cell_type": "code",
   "execution_count": 234,
   "id": "b72c00b4-f192-4074-b2b5-a594020bfa28",
   "metadata": {},
   "outputs": [
    {
     "name": "stdout",
     "output_type": "stream",
     "text": [
      "[' <=50K' ' <=50K' ' <=50K' ... ' >50K' ' <=50K' ' <=50K']\n"
     ]
    }
   ],
   "source": [
    "y_pred = gnb.predict(X_test) \n",
    "print(y_pred) "
   ]
  },
  {
   "cell_type": "markdown",
   "id": "f79f3041-f2ee-4eae-9d57-64e3dcdaa24d",
   "metadata": {},
   "source": [
    "### Check accuracy score  "
   ]
  },
  {
   "cell_type": "code",
   "execution_count": 236,
   "id": "a13e408a-6dd8-4784-92f3-f393d65cd7a2",
   "metadata": {},
   "outputs": [
    {
     "name": "stdout",
     "output_type": "stream",
     "text": [
      "Model accuracy score: 0.7993\n"
     ]
    }
   ],
   "source": [
    "\n",
    "from sklearn.metrics import accuracy_score \n",
    "print('Model accuracy score: {0:0.4f}'. format(accuracy_score(y_test, y_pred))) "
   ]
  },
  {
   "cell_type": "markdown",
   "id": "1a3462ce-3d0d-48cd-be77-02dfdc7c1500",
   "metadata": {},
   "source": [
    "### Compare the train-set and test-set accuracy "
   ]
  },
  {
   "cell_type": "code",
   "execution_count": 240,
   "id": "ee04386d-725f-412b-80f9-03b949f07363",
   "metadata": {},
   "outputs": [
    {
     "name": "stdout",
     "output_type": "stream",
     "text": [
      "[' <=50K' ' >50K' ' <=50K' ... ' <=50K' ' <=50K' ' <=50K']\n",
      "Training-set accuracy score: 0.7920\n"
     ]
    }
   ],
   "source": [
    "y_pred_train = gnb.predict(X_train) \n",
    "print(y_pred_train) \n",
    "print('Training-set accuracy score: {0:0.4f}'. format(accuracy_score(y_train, y_pred_train))) "
   ]
  },
  {
   "cell_type": "code",
   "execution_count": 242,
   "id": "e817cadc-e38e-4c76-b63b-8c9d6c1cfa36",
   "metadata": {},
   "outputs": [
    {
     "name": "stdout",
     "output_type": "stream",
     "text": [
      "income\n",
      "<=50K    7454\n",
      ">50K     2314\n",
      "Name: count, dtype: int64\n"
     ]
    }
   ],
   "source": [
    "# check class distribution in test set \n",
    "print(y_test.value_counts()) "
   ]
  },
  {
   "cell_type": "markdown",
   "id": "a6c940b8-89bf-4a48-aa38-7ea792d0d2ec",
   "metadata": {},
   "source": [
    " ### Confusion matrix "
   ]
  },
  {
   "cell_type": "code",
   "execution_count": 245,
   "id": "7b369ff9-952b-4c3b-bbac-ca7bfa776044",
   "metadata": {},
   "outputs": [
    {
     "name": "stdout",
     "output_type": "stream",
     "text": [
      "Confusion matrix\n",
      "\n",
      " [[7076  378]\n",
      " [1582  732]]\n",
      "\n",
      "True Positives(TP) =  7076\n",
      "\n",
      "True Negatives(TN) =  732\n",
      "\n",
      "False Positives(FP) =  378\n"
     ]
    }
   ],
   "source": [
    " \n",
    "from sklearn.metrics import confusion_matrix \n",
    "cm = confusion_matrix(y_test, y_pred) \n",
    "print('Confusion matrix\\n\\n', cm) \n",
    "print('\\nTrue Positives(TP) = ', cm[0,0]) \n",
    "print('\\nTrue Negatives(TN) = ', cm[1,1]) \n",
    "print('\\nFalse Positives(FP) = ', cm[0,1]) "
   ]
  },
  {
   "cell_type": "code",
   "execution_count": 249,
   "id": "30d437a0-efc3-4d49-9ef3-1fe21dc6481f",
   "metadata": {},
   "outputs": [
    {
     "data": {
      "text/plain": [
       "<Axes: >"
      ]
     },
     "execution_count": 249,
     "metadata": {},
     "output_type": "execute_result"
    },
    {
     "data": {
      "image/png": "[encoded data removed]",
      "text/plain": [
       "<Figure size 640x480 with 2 Axes>"
      ]
     },
     "metadata": {},
     "output_type": "display_data"
    }
   ],
   "source": [
    "# visualize confusion matrix with seaborn heatmap \n",
    "cm_matrix = pd.DataFrame(data=cm, columns=['Actual Positive:1', 'Actual Negative:0'],  \n",
    "index=['Predict Positive:1', 'Predict Negative:0']) \n",
    "sns.heatmap(cm_matrix, annot=True, fmt='d', cmap='YlGnBu')  "
   ]
  },
  {
   "cell_type": "markdown",
   "id": "50487240-5a85-4392-a80c-58aacbc63205",
   "metadata": {},
   "source": [
    "### Classification metrices "
   ]
  },
  {
   "cell_type": "code",
   "execution_count": 252,
   "id": "80b58ddf-efdb-4d78-81cb-1574429e12bb",
   "metadata": {},
   "outputs": [
    {
     "name": "stdout",
     "output_type": "stream",
     "text": [
      "              precision    recall  f1-score   support\n",
      "\n",
      "       <=50K       0.82      0.95      0.88      7454\n",
      "        >50K       0.66      0.32      0.43      2314\n",
      "\n",
      "    accuracy                           0.80      9768\n",
      "   macro avg       0.74      0.63      0.65      9768\n",
      "weighted avg       0.78      0.80      0.77      9768\n",
      "\n"
     ]
    }
   ],
   "source": [
    "from sklearn.metrics import classification_report \n",
    "print(classification_report(y_test, y_pred)) "
   ]
  },
  {
   "cell_type": "markdown",
   "id": "9820d8cc-2100-484f-8ed2-6e7fb02e6d9e",
   "metadata": {},
   "source": [
    "### Classification accuracy "
   ]
  },
  {
   "cell_type": "code",
   "execution_count": 255,
   "id": "0e650ce4-6a45-4cd4-a414-fdb3598e9322",
   "metadata": {},
   "outputs": [
    {
     "name": "stdout",
     "output_type": "stream",
     "text": [
      "Classification accuracy : 0.7993\n"
     ]
    }
   ],
   "source": [
    "\n",
    "TP = cm[0,0] \n",
    "TN = cm[1,1] \n",
    "FP = cm[0,1] \n",
    "FN = cm[1,0] \n",
    "# print classification accuracy \n",
    "classification_accuracy = (TP + TN) / float(TP + TN + FP + FN) \n",
    "print('Classification accuracy : {0:0.4f}'.format(classification_accuracy)) "
   ]
  },
  {
   "cell_type": "markdown",
   "id": "a961825a-7722-4281-ad69-603b652f4fb2",
   "metadata": {},
   "source": [
    "### Classification error "
   ]
  },
  {
   "cell_type": "code",
   "execution_count": 257,
   "id": "9304ee66-0698-409e-820f-3691a9d977c7",
   "metadata": {},
   "outputs": [
    {
     "name": "stdout",
     "output_type": "stream",
     "text": [
      "Classification error : 0.2007\n"
     ]
    }
   ],
   "source": [
    "\n",
    "# print classification error \n",
    "classification_error = (FP + FN) / float(TP + TN + FP + FN) \n",
    "print('Classification error : {0:0.4f}'.format(classification_error)) "
   ]
  },
  {
   "cell_type": "markdown",
   "id": "d64f39d6-4f3a-479b-ae29-b5e14d7b7f46",
   "metadata": {},
   "source": [
    "### Precision "
   ]
  },
  {
   "cell_type": "code",
   "execution_count": 261,
   "id": "fd2859a7-8086-4c14-91f0-18d3dee2c8fe",
   "metadata": {},
   "outputs": [
    {
     "name": "stdout",
     "output_type": "stream",
     "text": [
      "Precision : 0.9493\n"
     ]
    }
   ],
   "source": [
    "# print precision score \n",
    "precision = TP / float(TP + FP) \n",
    "print('Precision : {0:0.4f}'.format(precision)) "
   ]
  },
  {
   "cell_type": "markdown",
   "id": "490af711-6b01-4ccd-8b64-ffc4bfd7d815",
   "metadata": {},
   "source": [
    "### Recall"
   ]
  },
  {
   "cell_type": "code",
   "execution_count": 264,
   "id": "b7a81450-be4a-48bc-bbeb-cc536468580c",
   "metadata": {},
   "outputs": [
    {
     "name": "stdout",
     "output_type": "stream",
     "text": [
      "Recall or Sensitivity : 0.8173\n"
     ]
    }
   ],
   "source": [
    "recall = TP / float(TP + FN) \n",
    "print('Recall or Sensitivity : {0:0.4f}'.format(recall)) "
   ]
  },
  {
   "cell_type": "markdown",
   "id": "e9e561bf-4222-4346-b52c-3c8fefe6836f",
   "metadata": {},
   "source": [
    "### False Positive Rate "
   ]
  },
  {
   "cell_type": "code",
   "execution_count": 267,
   "id": "cb30112c-fb99-4f94-9796-fddb1d3ef702",
   "metadata": {},
   "outputs": [
    {
     "name": "stdout",
     "output_type": "stream",
     "text": [
      "False Positive Rate : 0.3405\n",
      "Specificity : 0.6595\n"
     ]
    }
   ],
   "source": [
    "\n",
    "false_positive_rate = FP / float(FP + TN) \n",
    "print('False Positive Rate : {0:0.4f}'.format(false_positive_rate)) \n",
    "specificity = TN / (TN + FP) \n",
    "print('Specificity : {0:0.4f}'.format(specificity)) "
   ]
  },
  {
   "cell_type": "markdown",
   "id": "7234a840-60cc-49b3-9165-0847b98be49b",
   "metadata": {},
   "source": [
    "### Calculate class probabilities "
   ]
  },
  {
   "cell_type": "code",
   "execution_count": 271,
   "id": "b287636f-7885-4a75-9a75-fbde072131e2",
   "metadata": {},
   "outputs": [
    {
     "name": "stdout",
     "output_type": "stream",
     "text": [
      "[[9.87076209e-01 1.29237907e-02]\n",
      " [9.82719131e-01 1.72808694e-02]\n",
      " [9.96437663e-01 3.56233675e-03]\n",
      " [9.99548245e-01 4.51754768e-04]\n",
      " [9.90444197e-01 9.55580263e-03]\n",
      " [9.79718962e-01 2.02810377e-02]\n",
      " [9.80011271e-01 1.99887291e-02]\n",
      " [9.94971744e-01 5.02825600e-03]\n",
      " [9.82097974e-01 1.79020265e-02]\n",
      " [9.99352316e-01 6.47683850e-04]]\n"
     ]
    }
   ],
   "source": [
    "# print the first 10 predicted probabilities of two classes- 0 and 1 \n",
    "y_pred_prob = gnb.predict_proba(X_test)[0:10] \n",
    "print(y_pred_prob) "
   ]
  },
  {
   "cell_type": "code",
   "execution_count": 281,
   "id": "ac440fcd-d2c9-4414-9052-52bad809f8d6",
   "metadata": {},
   "outputs": [
    {
     "name": "stdout",
     "output_type": "stream",
     "text": [
      "   Prob of - <=50K  Prob of - >50K\n",
      "0         0.987076        0.012924\n",
      "1         0.982719        0.017281\n",
      "2         0.996438        0.003562\n",
      "3         0.999548        0.000452\n",
      "4         0.990444        0.009556\n",
      "5         0.979719        0.020281\n",
      "6         0.980011        0.019989\n",
      "7         0.994972        0.005028\n",
      "8         0.982098        0.017902\n",
      "9         0.999352        0.000648\n",
      "[0.01292379 0.01728087 0.00356234 0.00045175 0.0095558  0.02028104\n",
      " 0.01998873 0.00502826 0.01790203 0.00064768]\n"
     ]
    },
    {
     "data": {
      "image/png": "[encoded data removed]",
      "text/plain": [
       "<Figure size 640x480 with 1 Axes>"
      ]
     },
     "metadata": {},
     "output_type": "display_data"
    }
   ],
   "source": [
    "# Store the probabilities in a DataFrame\n",
    "y_pred1 = gnb.predict_proba(X_test)[:, 1]\n",
    "y_pred_prob_df = pd.DataFrame(data=y_pred_prob, columns=['Prob of - <=50K', 'Prob of - >50K'])\n",
    "print(y_pred_prob_df)\n",
    "\n",
    "# Print the first 10 predicted probabilities for class 1 - Probability of >50K\n",
    "print(gnb.predict_proba(X_test)[0:10, 1])\n",
    "\n",
    "# Plot histogram of predicted probabilities\n",
    "\n",
    "# Adjust the font size\n",
    "plt.rcParams['font.size'] = 12\n",
    "\n",
    "# Plot histogram with 10 bins\n",
    "plt.hist(y_pred1, bins=10)\n",
    "\n",
    "# Set the title of predicted probabilities\n",
    "plt.title('Histogram of predicted probabilities of salaries >50K')\n",
    "\n",
    "# Set the x-axis limit\n",
    "plt.xlim(0, 1)\n",
    "\n",
    "# Set the x and y-axis labels\n",
    "plt.xlabel('Predicted probabilities of salaries >50K')\n",
    "plt.ylabel('Frequency')\n",
    "\n",
    "# Display the plot\n",
    "plt.show()\n"
   ]
  },
  {
   "cell_type": "markdown",
   "id": "b9918eb3-40d9-4b28-9742-9a6f9507bca7",
   "metadata": {},
   "source": [
    "## ROC - AUC  "
   ]
  },
  {
   "cell_type": "code",
   "execution_count": 284,
   "id": "719fe471-f3dc-4a45-b28e-b97652654888",
   "metadata": {},
   "outputs": [
    {
     "name": "stdout",
     "output_type": "stream",
     "text": [
      "ROC AUC : 0.8384\n"
     ]
    }
   ],
   "source": [
    "# compute ROC AUC \n",
    "from sklearn.metrics import roc_auc_score \n",
    "ROC_AUC = roc_auc_score(y_test, y_pred1) \n",
    "print('ROC AUC : {:.4f}'.format(ROC_AUC))"
   ]
  },
  {
   "cell_type": "code",
   "execution_count": 286,
   "id": "4174ed36-380c-4011-ac4e-8babd933a88e",
   "metadata": {},
   "outputs": [
    {
     "name": "stdout",
     "output_type": "stream",
     "text": [
      "Cross validated ROC AUC : 0.8300\n"
     ]
    }
   ],
   "source": [
    "# Import necessary library\n",
    "from sklearn.model_selection import cross_val_score \n",
    "\n",
    "# Calculate cross-validated ROC AUC\n",
    "Cross_validated_ROC_AUC = cross_val_score(gnb, X_train, y_train, cv=5, scoring='roc_auc').mean()\n",
    "\n",
    "# Print the result\n",
    "print('Cross validated ROC AUC : {:.4f}'.format(Cross_validated_ROC_AUC))\n"
   ]
  },
  {
   "cell_type": "markdown",
   "id": "3d038094-6c5e-40fd-9d94-0c32ac8d8d74",
   "metadata": {},
   "source": [
    "##  k-Fold Cross Validati "
   ]
  },
  {
   "cell_type": "code",
   "execution_count": 289,
   "id": "66f098d9-5be8-413b-9db9-6387d9b1eb93",
   "metadata": {},
   "outputs": [
    {
     "name": "stdout",
     "output_type": "stream",
     "text": [
      "Cross-validation scores:[0.79385965 0.78903509 0.79069767 0.79596314 0.78806494 0.78806494\n",
      " 0.79815709 0.78938131 0.79640193 0.78894252]\n"
     ]
    }
   ],
   "source": [
    "# Applying 10-Fold Cross Validation \n",
    "from sklearn.model_selection import cross_val_score \n",
    "scores = cross_val_score(gnb, X_train, y_train, cv = 10, scoring='accuracy') \n",
    "print('Cross-validation scores:{}'.format(scores)) "
   ]
  },
  {
   "cell_type": "code",
   "execution_count": 291,
   "id": "2467812f-d18f-4723-a870-3231f2a39b8e",
   "metadata": {},
   "outputs": [
    {
     "name": "stdout",
     "output_type": "stream",
     "text": [
      "Average cross-validation score: 0.7919\n"
     ]
    }
   ],
   "source": [
    "# compute Average cross-validation score \n",
    "print('Average cross-validation score: {:.4f}'.format(scores.mean())) "
   ]
  },
  {
   "cell_type": "code",
   "execution_count": null,
   "id": "698b8da7-7667-49ca-9e20-cbcdf08861f9",
   "metadata": {},
   "outputs": [],
   "source": []
  }
 ],
 "metadata": {
  "kernelspec": {
   "display_name": "Python 3 (ipykernel)",
   "language": "python",
   "name": "python3"
  },
  "language_info": {
   "codemirror_mode": {
    "name": "ipython",
    "version": 3
   },
   "file_extension": ".py",
   "mimetype": "text/x-python",
   "name": "python",
   "nbconvert_exporter": "python",
   "pygments_lexer": "ipython3",
   "version": "3.12.7"
  }
 },
 "nbformat": 4,
 "nbformat_minor": 5
}
